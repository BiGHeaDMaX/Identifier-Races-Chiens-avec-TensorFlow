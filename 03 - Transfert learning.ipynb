{
 "cells": [
  {
   "cell_type": "markdown",
   "metadata": {},
   "source": [
    "# **Transfert learning**"
   ]
  },
  {
   "cell_type": "code",
   "execution_count": 1,
   "metadata": {},
   "outputs": [
    {
     "name": "stderr",
     "output_type": "stream",
     "text": [
      "2023-11-30 15:26:45.606897: E tensorflow/compiler/xla/stream_executor/cuda/cuda_dnn.cc:9342] Unable to register cuDNN factory: Attempting to register factory for plugin cuDNN when one has already been registered\n",
      "2023-11-30 15:26:45.606945: E tensorflow/compiler/xla/stream_executor/cuda/cuda_fft.cc:609] Unable to register cuFFT factory: Attempting to register factory for plugin cuFFT when one has already been registered\n",
      "2023-11-30 15:26:45.606968: E tensorflow/compiler/xla/stream_executor/cuda/cuda_blas.cc:1518] Unable to register cuBLAS factory: Attempting to register factory for plugin cuBLAS when one has already been registered\n",
      "2023-11-30 15:26:45.612994: I tensorflow/core/platform/cpu_feature_guard.cc:182] This TensorFlow binary is optimized to use available CPU instructions in performance-critical operations.\n",
      "To enable the following instructions: AVX2 FMA, in other operations, rebuild TensorFlow with the appropriate compiler flags.\n"
     ]
    },
    {
     "data": {
      "text/html": [
       "\n",
       "        <style>\n",
       "            .support_message_main_box {\n",
       "                position: relative;\n",
       "                display: table-cell;\n",
       "                vertical-align: middle;\n",
       "                width: 100%;\n",
       "                height: 8em;\n",
       "                padding: 1em;\n",
       "                padding-left: 11em;\n",
       "                background-color: #f7f7f7;\n",
       "                border: 1px solid #cfcfcf;\n",
       "                border-radius: 2px;\n",
       "            }\n",
       "            .support_message_main_box img {\n",
       "                position: absolute;\n",
       "                height: 9em;\n",
       "                width: 9em;\n",
       "                left: 0.5em;\n",
       "                top: 0.5em;\n",
       "                border-radius: 1em;\n",
       "            }\n",
       "        </style>\n",
       "        <div class=\"support_message_main_box\">\n",
       "            <img src=\"https://avatars.githubusercontent.com/u/7738570?v=4\" />\n",
       "            <p>\n",
       "            <b>Hi!</b><br/>\n",
       "            <span>I am the author of\n",
       "            <a href=\"https://github.com/LucaCappelletti94/plot_keras_history\" target=\"_blank\">\n",
       "                plot_keras_history\n",
       "            </a>, which you use in this Notebook.\n",
       "            </span><br/>\n",
       "            \n",
       "        <span>I hope my work has saved you some time!</span><br/>\n",
       "        \n",
       "            <span>I love to code, but I also need coffee.</span>\n",
       "            <a href=\"https://github.com/sponsors/LucaCappelletti94\" target=\"_blank\">\n",
       "                Please sponsor me on GitHub ❤️\n",
       "            </a><br/>\n",
       "            <i>Good luck in your coding 🍀!</i>\n",
       "            <br/>\n",
       "            <i>- Luca</i>\n",
       "            </p>\n",
       "        <div>\n",
       "        "
      ],
      "text/plain": [
       "<IPython.core.display.HTML object>"
      ]
     },
     "metadata": {},
     "output_type": "display_data"
    }
   ],
   "source": [
    "#import tensorflow as tf\n",
    "from tensorflow import device\n",
    "from tensorflow.config import list_physical_devices\n",
    "from tensorflow.keras.utils import image_dataset_from_directory\n",
    "\n",
    "from tensorflow.keras.models import Model, Sequential\n",
    "from tensorflow.keras.layers import GlobalAveragePooling2D, GlobalAveragePooling1D, Flatten, Dense, Dropout \n",
    "from tensorflow.keras.layers import Rescaling, RandomFlip, RandomRotation, RandomZoom\n",
    "from tensorflow.keras.callbacks import EarlyStopping, ModelCheckpoint\n",
    "\n",
    "\n",
    "from tensorflow.keras.applications.vgg16 import VGG16\n",
    "\n",
    "from plot_keras_history import show_history, plot_history\n",
    "import matplotlib.pyplot as plt\n",
    "\n",
    "#from glob import glob  # Récupération des emplacements de fichiers\n",
    "import os  # Manipulations de fichiers\n",
    "import shutil  # Pour supprimer un dossier non vide\n",
    "import random  # Utilisé lors de la séparation train/test\n",
    "from math import ceil  # Utilisé lors de la séparation train/test\n"
   ]
  },
  {
   "cell_type": "markdown",
   "metadata": {},
   "source": [
    "Séparation des images en train/test en créant un nouveau dossier."
   ]
  },
  {
   "cell_type": "code",
   "execution_count": 2,
   "metadata": {},
   "outputs": [],
   "source": [
    "split_ratio = 0.8\n",
    "\n",
    "#input_folder = \"dogs_small_proc\"\n",
    "#input_folder = \"dogs_small_proc_white\"\n",
    "input_folder = \"dogs_small\"\n",
    "\n",
    "output_folder = input_folder + \"_splited\"\n",
    "\n",
    "\n",
    "# Si le dossier existe déjà (précédente sauvagarde)\n",
    "# suppression du dossier et de son contenu avec shutil\n",
    "if os.path.exists(output_folder):\n",
    "    shutil.rmtree(output_folder)\n",
    "\n",
    "# Créer les dossiers train et test dans le dossier de sortie\n",
    "train_folder = os.path.join(output_folder, 'train')\n",
    "test_folder = os.path.join(output_folder, 'test')\n",
    "os.makedirs(train_folder, exist_ok=True)\n",
    "os.makedirs(test_folder, exist_ok=True)\n",
    "\n",
    "# Parcourir les sous-dossiers du dossier d'origine\n",
    "for label_folder in os.listdir(input_folder):\n",
    "    label_path = os.path.join(input_folder, label_folder)\n",
    "    if os.path.isdir(label_path):\n",
    "        # Liste des fichiers dans le sous-dossier\n",
    "        files = os.listdir(label_path)\n",
    "        # Calculer le nombre de fichiers à utiliser pour l'entraînement\n",
    "        train_count = ceil(len(files) * split_ratio)\n",
    "        # Mélanger la liste des fichiers de manière aléatoire\n",
    "        random.shuffle(files)\n",
    "        \n",
    "        # Diviser les fichiers entre train et test\n",
    "        train_files = files[:train_count]\n",
    "        test_files = files[train_count:]\n",
    "\n",
    "        # Créer les sous-dossiers correspondants dans les dossiers train et test\n",
    "        train_label_folder = os.path.join(train_folder, label_folder)\n",
    "        test_label_folder = os.path.join(test_folder, label_folder)\n",
    "        os.makedirs(train_label_folder, exist_ok=True)\n",
    "        os.makedirs(test_label_folder, exist_ok=True)\n",
    "\n",
    "        # Copier les fichiers dans les sous-dossiers correspondants\n",
    "        for file in train_files:\n",
    "            shutil.copy(os.path.join(label_path, file), os.path.join(train_label_folder, file))\n",
    "        \n",
    "        for file in test_files:\n",
    "            shutil.copy(os.path.join(label_path, file), os.path.join(test_label_folder, file))"
   ]
  },
  {
   "cell_type": "code",
   "execution_count": 3,
   "metadata": {},
   "outputs": [],
   "source": [
    "path = output_folder+\"/train\"\n",
    "path_test = output_folder+\"/test\"\n"
   ]
  },
  {
   "cell_type": "markdown",
   "metadata": {},
   "source": [
    "https://www.tensorflow.org/api_docs/python/tf/keras/utils/image_dataset_from_directory"
   ]
  },
  {
   "cell_type": "code",
   "execution_count": 4,
   "metadata": {},
   "outputs": [],
   "source": [
    "batch_size = 32\n",
    "\n",
    "def dataset_fct(path, validation_split=0, data_type=None) :\n",
    "    #dataset = tf.keras.utils.image_dataset_from_directory(\n",
    "    dataset = image_dataset_from_directory(\n",
    "                    path, labels='inferred', label_mode='categorical',\n",
    "                    class_names=None, batch_size=batch_size, image_size=(224, 224), shuffle=True, seed=42,\n",
    "                    validation_split=validation_split, subset=data_type\n",
    "                    )\n",
    "    return dataset"
   ]
  },
  {
   "cell_type": "code",
   "execution_count": 5,
   "metadata": {},
   "outputs": [
    {
     "name": "stdout",
     "output_type": "stream",
     "text": [
      "Found 472 files belonging to 3 classes.\n",
      "Using 354 files for training.\n"
     ]
    },
    {
     "name": "stderr",
     "output_type": "stream",
     "text": [
      "2023-11-30 15:27:01.349994: I tensorflow/compiler/xla/stream_executor/cuda/cuda_gpu_executor.cc:880] could not open file to read NUMA node: /sys/bus/pci/devices/0000:01:00.0/numa_node\n",
      "Your kernel may have been built without NUMA support.\n",
      "2023-11-30 15:27:01.354256: I tensorflow/compiler/xla/stream_executor/cuda/cuda_gpu_executor.cc:880] could not open file to read NUMA node: /sys/bus/pci/devices/0000:01:00.0/numa_node\n",
      "Your kernel may have been built without NUMA support.\n",
      "2023-11-30 15:27:01.354289: I tensorflow/compiler/xla/stream_executor/cuda/cuda_gpu_executor.cc:880] could not open file to read NUMA node: /sys/bus/pci/devices/0000:01:00.0/numa_node\n",
      "Your kernel may have been built without NUMA support.\n",
      "2023-11-30 15:27:01.355704: I tensorflow/compiler/xla/stream_executor/cuda/cuda_gpu_executor.cc:880] could not open file to read NUMA node: /sys/bus/pci/devices/0000:01:00.0/numa_node\n",
      "Your kernel may have been built without NUMA support.\n",
      "2023-11-30 15:27:01.355740: I tensorflow/compiler/xla/stream_executor/cuda/cuda_gpu_executor.cc:880] could not open file to read NUMA node: /sys/bus/pci/devices/0000:01:00.0/numa_node\n",
      "Your kernel may have been built without NUMA support.\n",
      "2023-11-30 15:27:01.355759: I tensorflow/compiler/xla/stream_executor/cuda/cuda_gpu_executor.cc:880] could not open file to read NUMA node: /sys/bus/pci/devices/0000:01:00.0/numa_node\n",
      "Your kernel may have been built without NUMA support.\n",
      "2023-11-30 15:27:01.583376: I tensorflow/compiler/xla/stream_executor/cuda/cuda_gpu_executor.cc:880] could not open file to read NUMA node: /sys/bus/pci/devices/0000:01:00.0/numa_node\n",
      "Your kernel may have been built without NUMA support.\n",
      "2023-11-30 15:27:01.583415: I tensorflow/compiler/xla/stream_executor/cuda/cuda_gpu_executor.cc:880] could not open file to read NUMA node: /sys/bus/pci/devices/0000:01:00.0/numa_node\n",
      "Your kernel may have been built without NUMA support.\n",
      "2023-11-30 15:27:01.583421: I tensorflow/core/common_runtime/gpu/gpu_device.cc:1977] Could not identify NUMA node of platform GPU id 0, defaulting to 0.  Your kernel may not have been built with NUMA support.\n",
      "2023-11-30 15:27:01.583485: I tensorflow/compiler/xla/stream_executor/cuda/cuda_gpu_executor.cc:880] could not open file to read NUMA node: /sys/bus/pci/devices/0000:01:00.0/numa_node\n",
      "Your kernel may have been built without NUMA support.\n",
      "2023-11-30 15:27:01.583504: I tensorflow/core/common_runtime/gpu/gpu_device.cc:1886] Created device /job:localhost/replica:0/task:0/device:GPU:0 with 21784 MB memory:  -> device: 0, name: NVIDIA GeForce RTX 3090, pci bus id: 0000:01:00.0, compute capability: 8.6\n",
      "2023-11-30 15:27:02.383483: I tensorflow/tsl/platform/default/subprocess.cc:304] Start cannot spawn child process: No such file or directory\n"
     ]
    },
    {
     "name": "stdout",
     "output_type": "stream",
     "text": [
      "Found 472 files belonging to 3 classes.\n",
      "Using 118 files for validation.\n",
      "Found 117 files belonging to 3 classes.\n"
     ]
    }
   ],
   "source": [
    "dataset_train = dataset_fct(path, validation_split=0.25, data_type='training')\n",
    "dataset_val = dataset_fct(path, validation_split=0.25, data_type='validation')\n",
    "dataset_test = dataset_fct(path_test, validation_split=0, data_type=None)"
   ]
  },
  {
   "cell_type": "code",
   "execution_count": 6,
   "metadata": {},
   "outputs": [],
   "source": [
    "def create_model_fct2() :\n",
    "    # Data augmentation\n",
    "    data_augmentation = Sequential([\n",
    "        RandomFlip(\"horizontal\", input_shape=(224, 224, 3)),\n",
    "        RandomRotation(0.1),\n",
    "        RandomZoom(0.1),\n",
    "        # Rescaling(1./127.5, offset=-1.0)\n",
    "      ])\n",
    "    \n",
    "    # Récupération modèle pré-entraîné\n",
    "    model_base = VGG16(include_top=False, weights=\"imagenet\", input_shape=(224, 224, 3))\n",
    "    for layer in model_base.layers:\n",
    "        layer.trainable = False\n",
    "\n",
    "    # Définition du nouveau modèle\n",
    "    model = Sequential([\n",
    "                data_augmentation,\n",
    "                Rescaling(1./127.5, offset=-1),\n",
    "                model_base,\n",
    "                GlobalAveragePooling2D(),\n",
    "                Dense(256, activation='relu'),\n",
    "                Dropout(0.5),\n",
    "                Dense(3, activation='softmax')  # 4 (nombre de classes)\n",
    "                ])\n",
    "\n",
    "    # compilation du modèle \n",
    "    model.compile(loss=\"categorical_crossentropy\", optimizer='adam', metrics=[\"accuracy\"])\n",
    "\n",
    "    print(model.summary())\n",
    "    \n",
    "    return model"
   ]
  },
  {
   "cell_type": "code",
   "execution_count": 7,
   "metadata": {},
   "outputs": [
    {
     "name": "stdout",
     "output_type": "stream",
     "text": [
      "Model: \"sequential_1\"\n",
      "_________________________________________________________________\n",
      " Layer (type)                Output Shape              Param #   \n",
      "=================================================================\n",
      " sequential (Sequential)     (None, 224, 224, 3)       0         \n",
      "                                                                 \n",
      " rescaling (Rescaling)       (None, 224, 224, 3)       0         \n",
      "                                                                 \n",
      " vgg16 (Functional)          (None, 7, 7, 512)         14714688  \n",
      "                                                                 \n",
      " global_average_pooling2d (  (None, 512)               0         \n",
      " GlobalAveragePooling2D)                                         \n",
      "                                                                 \n",
      " dense (Dense)               (None, 256)               131328    \n",
      "                                                                 \n",
      " dropout (Dropout)           (None, 256)               0         \n",
      "                                                                 \n",
      " dense_1 (Dense)             (None, 3)                 771       \n",
      "                                                                 \n",
      "=================================================================\n",
      "Total params: 14846787 (56.64 MB)\n",
      "Trainable params: 132099 (516.01 KB)\n",
      "Non-trainable params: 14714688 (56.13 MB)\n",
      "_________________________________________________________________\n",
      "None\n"
     ]
    }
   ],
   "source": [
    "# Création du modèle\n",
    "#with tf.device('/gpu:0'):\n",
    "with device('/gpu:0'):    \n",
    "    model = create_model_fct2()\n",
    "\n",
    "# Création du callback\n",
    "model_save_path = \"./model_best_weights.h5\"\n",
    "checkpoint = ModelCheckpoint(model_save_path, monitor='val_loss', verbose=1, save_best_only=True, mode='min')\n",
    "es = EarlyStopping(monitor='val_loss', mode='min', verbose=1, patience=5)\n",
    "callbacks_list = [checkpoint, es]"
   ]
  },
  {
   "cell_type": "code",
   "execution_count": 8,
   "metadata": {},
   "outputs": [
    {
     "name": "stdout",
     "output_type": "stream",
     "text": [
      "Num GPUs Available:  1\n"
     ]
    }
   ],
   "source": [
    "#print(\"Num GPUs Available: \", len(tf.config.list_physical_devices('GPU')))\n",
    "print(\"Num GPUs Available: \", len(list_physical_devices('GPU')))"
   ]
  },
  {
   "cell_type": "code",
   "execution_count": 9,
   "metadata": {},
   "outputs": [
    {
     "name": "stdout",
     "output_type": "stream",
     "text": [
      "Epoch 1/50\n"
     ]
    },
    {
     "name": "stderr",
     "output_type": "stream",
     "text": [
      "2023-11-30 15:27:05.928324: I tensorflow/compiler/xla/stream_executor/cuda/cuda_dnn.cc:442] Loaded cuDNN version 8700\n",
      "2023-11-30 15:27:06.125581: I tensorflow/tsl/platform/default/subprocess.cc:304] Start cannot spawn child process: No such file or directory\n",
      "2023-11-30 15:27:07.296545: I tensorflow/compiler/xla/service/service.cc:168] XLA service 0x7f36b09c0d60 initialized for platform CUDA (this does not guarantee that XLA will be used). Devices:\n",
      "2023-11-30 15:27:07.296583: I tensorflow/compiler/xla/service/service.cc:176]   StreamExecutor device (0): NVIDIA GeForce RTX 3090, Compute Capability 8.6\n",
      "2023-11-30 15:27:07.300263: I tensorflow/compiler/mlir/tensorflow/utils/dump_mlir_util.cc:269] disabling MLIR crash reproducer, set env var `MLIR_CRASH_REPRODUCER_DIRECTORY` to enable.\n",
      "2023-11-30 15:27:07.374540: I ./tensorflow/compiler/jit/device_compiler.h:186] Compiled cluster using XLA!  This line is logged at most once for the lifetime of the process.\n"
     ]
    },
    {
     "name": "stdout",
     "output_type": "stream",
     "text": [
      "12/12 [==============================] - ETA: 0s - loss: 1.2409 - accuracy: 0.4153\n",
      "Epoch 1: val_loss improved from inf to 0.79877, saving model to ./model_best_weights.h5\n"
     ]
    },
    {
     "name": "stderr",
     "output_type": "stream",
     "text": [
      "/home/maxime/.local/lib/python3.10/site-packages/keras/src/engine/training.py:3079: UserWarning: You are saving your model as an HDF5 file via `model.save()`. This file format is considered legacy. We recommend using instead the native Keras format, e.g. `model.save('my_model.keras')`.\n",
      "  saving_api.save_model(\n"
     ]
    },
    {
     "name": "stdout",
     "output_type": "stream",
     "text": [
      "12/12 [==============================] - 5s 147ms/step - loss: 1.2409 - accuracy: 0.4153 - val_loss: 0.7988 - val_accuracy: 0.7542\n",
      "Epoch 2/50\n",
      "12/12 [==============================] - ETA: 0s - loss: 0.9178 - accuracy: 0.5650\n",
      "Epoch 2: val_loss improved from 0.79877 to 0.66579, saving model to ./model_best_weights.h5\n",
      "12/12 [==============================] - 1s 84ms/step - loss: 0.9178 - accuracy: 0.5650 - val_loss: 0.6658 - val_accuracy: 0.8305\n",
      "Epoch 3/50\n",
      "12/12 [==============================] - ETA: 0s - loss: 0.7649 - accuracy: 0.6808\n",
      "Epoch 3: val_loss improved from 0.66579 to 0.55131, saving model to ./model_best_weights.h5\n",
      "12/12 [==============================] - 1s 85ms/step - loss: 0.7649 - accuracy: 0.6808 - val_loss: 0.5513 - val_accuracy: 0.8559\n",
      "Epoch 4/50\n",
      "11/12 [==========================>...] - ETA: 0s - loss: 0.6758 - accuracy: 0.7699\n",
      "Epoch 4: val_loss improved from 0.55131 to 0.48257, saving model to ./model_best_weights.h5\n",
      "12/12 [==============================] - 1s 85ms/step - loss: 0.6769 - accuracy: 0.7684 - val_loss: 0.4826 - val_accuracy: 0.8390\n",
      "Epoch 5/50\n",
      "11/12 [==========================>...] - ETA: 0s - loss: 0.5661 - accuracy: 0.8011\n",
      "Epoch 5: val_loss improved from 0.48257 to 0.42494, saving model to ./model_best_weights.h5\n",
      "12/12 [==============================] - 1s 84ms/step - loss: 0.5666 - accuracy: 0.7994 - val_loss: 0.4249 - val_accuracy: 0.8729\n",
      "Epoch 6/50\n",
      "11/12 [==========================>...] - ETA: 0s - loss: 0.4975 - accuracy: 0.8608\n",
      "Epoch 6: val_loss improved from 0.42494 to 0.39733, saving model to ./model_best_weights.h5\n",
      "12/12 [==============================] - 1s 88ms/step - loss: 0.4964 - accuracy: 0.8616 - val_loss: 0.3973 - val_accuracy: 0.8220\n",
      "Epoch 7/50\n",
      "11/12 [==========================>...] - ETA: 0s - loss: 0.5018 - accuracy: 0.8494\n",
      "Epoch 7: val_loss improved from 0.39733 to 0.37844, saving model to ./model_best_weights.h5\n",
      "12/12 [==============================] - 1s 83ms/step - loss: 0.5002 - accuracy: 0.8503 - val_loss: 0.3784 - val_accuracy: 0.8729\n",
      "Epoch 8/50\n",
      "12/12 [==============================] - ETA: 0s - loss: 0.4622 - accuracy: 0.8503\n",
      "Epoch 8: val_loss improved from 0.37844 to 0.32075, saving model to ./model_best_weights.h5\n",
      "12/12 [==============================] - 1s 84ms/step - loss: 0.4622 - accuracy: 0.8503 - val_loss: 0.3207 - val_accuracy: 0.8814\n",
      "Epoch 9/50\n",
      "11/12 [==========================>...] - ETA: 0s - loss: 0.3824 - accuracy: 0.8892\n",
      "Epoch 9: val_loss improved from 0.32075 to 0.29839, saving model to ./model_best_weights.h5\n",
      "12/12 [==============================] - 1s 83ms/step - loss: 0.3822 - accuracy: 0.8898 - val_loss: 0.2984 - val_accuracy: 0.8729\n",
      "Epoch 10/50\n",
      "11/12 [==========================>...] - ETA: 0s - loss: 0.3845 - accuracy: 0.8722\n",
      "Epoch 10: val_loss improved from 0.29839 to 0.28987, saving model to ./model_best_weights.h5\n",
      "12/12 [==============================] - 1s 80ms/step - loss: 0.3825 - accuracy: 0.8729 - val_loss: 0.2899 - val_accuracy: 0.8814\n",
      "Epoch 11/50\n",
      "11/12 [==========================>...] - ETA: 0s - loss: 0.3531 - accuracy: 0.8892\n",
      "Epoch 11: val_loss improved from 0.28987 to 0.27570, saving model to ./model_best_weights.h5\n",
      "12/12 [==============================] - 1s 79ms/step - loss: 0.3520 - accuracy: 0.8898 - val_loss: 0.2757 - val_accuracy: 0.8814\n",
      "Epoch 12/50\n",
      "11/12 [==========================>...] - ETA: 0s - loss: 0.3218 - accuracy: 0.9034\n",
      "Epoch 12: val_loss improved from 0.27570 to 0.25962, saving model to ./model_best_weights.h5\n",
      "12/12 [==============================] - 1s 80ms/step - loss: 0.3208 - accuracy: 0.9040 - val_loss: 0.2596 - val_accuracy: 0.8983\n",
      "Epoch 13/50\n",
      "12/12 [==============================] - ETA: 0s - loss: 0.3149 - accuracy: 0.9040\n",
      "Epoch 13: val_loss improved from 0.25962 to 0.25073, saving model to ./model_best_weights.h5\n",
      "12/12 [==============================] - 1s 83ms/step - loss: 0.3149 - accuracy: 0.9040 - val_loss: 0.2507 - val_accuracy: 0.9068\n",
      "Epoch 14/50\n",
      "11/12 [==========================>...] - ETA: 0s - loss: 0.3030 - accuracy: 0.8949\n",
      "Epoch 14: val_loss did not improve from 0.25073\n",
      "12/12 [==============================] - 1s 70ms/step - loss: 0.3017 - accuracy: 0.8955 - val_loss: 0.2636 - val_accuracy: 0.8814\n",
      "Epoch 15/50\n",
      "11/12 [==========================>...] - ETA: 0s - loss: 0.3115 - accuracy: 0.8949\n",
      "Epoch 15: val_loss improved from 0.25073 to 0.23273, saving model to ./model_best_weights.h5\n",
      "12/12 [==============================] - 1s 84ms/step - loss: 0.3122 - accuracy: 0.8927 - val_loss: 0.2327 - val_accuracy: 0.8898\n",
      "Epoch 16/50\n",
      "11/12 [==========================>...] - ETA: 0s - loss: 0.3090 - accuracy: 0.8778\n",
      "Epoch 16: val_loss did not improve from 0.23273\n",
      "12/12 [==============================] - 1s 70ms/step - loss: 0.3091 - accuracy: 0.8785 - val_loss: 0.2385 - val_accuracy: 0.8814\n",
      "Epoch 17/50\n",
      "11/12 [==========================>...] - ETA: 0s - loss: 0.2954 - accuracy: 0.9148\n",
      "Epoch 17: val_loss did not improve from 0.23273\n",
      "12/12 [==============================] - 1s 70ms/step - loss: 0.2944 - accuracy: 0.9153 - val_loss: 0.2332 - val_accuracy: 0.9153\n",
      "Epoch 18/50\n",
      "11/12 [==========================>...] - ETA: 0s - loss: 0.2536 - accuracy: 0.9233\n",
      "Epoch 18: val_loss improved from 0.23273 to 0.22100, saving model to ./model_best_weights.h5\n",
      "12/12 [==============================] - 1s 84ms/step - loss: 0.2523 - accuracy: 0.9237 - val_loss: 0.2210 - val_accuracy: 0.9153\n",
      "Epoch 19/50\n",
      "11/12 [==========================>...] - ETA: 0s - loss: 0.2594 - accuracy: 0.9148\n",
      "Epoch 19: val_loss improved from 0.22100 to 0.21084, saving model to ./model_best_weights.h5\n",
      "12/12 [==============================] - 1s 84ms/step - loss: 0.2591 - accuracy: 0.9153 - val_loss: 0.2108 - val_accuracy: 0.8898\n",
      "Epoch 20/50\n",
      "12/12 [==============================] - ETA: 0s - loss: 0.2090 - accuracy: 0.9520\n",
      "Epoch 20: val_loss improved from 0.21084 to 0.20656, saving model to ./model_best_weights.h5\n",
      "12/12 [==============================] - 1s 84ms/step - loss: 0.2090 - accuracy: 0.9520 - val_loss: 0.2066 - val_accuracy: 0.8983\n",
      "Epoch 21/50\n",
      "11/12 [==========================>...] - ETA: 0s - loss: 0.2354 - accuracy: 0.9233\n",
      "Epoch 21: val_loss did not improve from 0.20656\n",
      "12/12 [==============================] - 1s 72ms/step - loss: 0.2351 - accuracy: 0.9237 - val_loss: 0.2073 - val_accuracy: 0.8898\n",
      "Epoch 22/50\n",
      "11/12 [==========================>...] - ETA: 0s - loss: 0.2423 - accuracy: 0.9233\n",
      "Epoch 22: val_loss improved from 0.20656 to 0.20039, saving model to ./model_best_weights.h5\n",
      "12/12 [==============================] - 1s 84ms/step - loss: 0.2417 - accuracy: 0.9237 - val_loss: 0.2004 - val_accuracy: 0.9153\n",
      "Epoch 23/50\n",
      "12/12 [==============================] - ETA: 0s - loss: 0.2438 - accuracy: 0.9096\n",
      "Epoch 23: val_loss improved from 0.20039 to 0.19966, saving model to ./model_best_weights.h5\n",
      "12/12 [==============================] - 1s 84ms/step - loss: 0.2438 - accuracy: 0.9096 - val_loss: 0.1997 - val_accuracy: 0.9407\n",
      "Epoch 24/50\n",
      "11/12 [==========================>...] - ETA: 0s - loss: 0.2283 - accuracy: 0.9318\n",
      "Epoch 24: val_loss did not improve from 0.19966\n",
      "12/12 [==============================] - 1s 70ms/step - loss: 0.2272 - accuracy: 0.9322 - val_loss: 0.2284 - val_accuracy: 0.8814\n",
      "Epoch 25/50\n",
      "12/12 [==============================] - ETA: 0s - loss: 0.2174 - accuracy: 0.9407\n",
      "Epoch 25: val_loss improved from 0.19966 to 0.18948, saving model to ./model_best_weights.h5\n",
      "12/12 [==============================] - 1s 83ms/step - loss: 0.2174 - accuracy: 0.9407 - val_loss: 0.1895 - val_accuracy: 0.9407\n",
      "Epoch 26/50\n",
      "11/12 [==========================>...] - ETA: 0s - loss: 0.2252 - accuracy: 0.9176\n",
      "Epoch 26: val_loss did not improve from 0.18948\n",
      "12/12 [==============================] - 1s 75ms/step - loss: 0.2239 - accuracy: 0.9181 - val_loss: 0.2013 - val_accuracy: 0.8983\n",
      "Epoch 27/50\n",
      "11/12 [==========================>...] - ETA: 0s - loss: 0.1866 - accuracy: 0.9375\n",
      "Epoch 27: val_loss improved from 0.18948 to 0.17747, saving model to ./model_best_weights.h5\n",
      "12/12 [==============================] - 1s 84ms/step - loss: 0.1857 - accuracy: 0.9379 - val_loss: 0.1775 - val_accuracy: 0.9237\n",
      "Epoch 28/50\n",
      "12/12 [==============================] - ETA: 0s - loss: 0.2029 - accuracy: 0.9294\n",
      "Epoch 28: val_loss did not improve from 0.17747\n",
      "12/12 [==============================] - 1s 71ms/step - loss: 0.2029 - accuracy: 0.9294 - val_loss: 0.1783 - val_accuracy: 0.9068\n",
      "Epoch 29/50\n",
      "11/12 [==========================>...] - ETA: 0s - loss: 0.2019 - accuracy: 0.9205\n",
      "Epoch 29: val_loss did not improve from 0.17747\n",
      "12/12 [==============================] - 1s 71ms/step - loss: 0.2008 - accuracy: 0.9209 - val_loss: 0.1869 - val_accuracy: 0.9153\n",
      "Epoch 30/50\n",
      "11/12 [==========================>...] - ETA: 0s - loss: 0.1909 - accuracy: 0.9347\n",
      "Epoch 30: val_loss did not improve from 0.17747\n",
      "12/12 [==============================] - 1s 72ms/step - loss: 0.1912 - accuracy: 0.9350 - val_loss: 0.1869 - val_accuracy: 0.9237\n",
      "Epoch 31/50\n",
      "11/12 [==========================>...] - ETA: 0s - loss: 0.1595 - accuracy: 0.9517\n",
      "Epoch 31: val_loss improved from 0.17747 to 0.17390, saving model to ./model_best_weights.h5\n",
      "12/12 [==============================] - 1s 82ms/step - loss: 0.1586 - accuracy: 0.9520 - val_loss: 0.1739 - val_accuracy: 0.9237\n",
      "Epoch 32/50\n",
      "11/12 [==========================>...] - ETA: 0s - loss: 0.1790 - accuracy: 0.9347\n",
      "Epoch 32: val_loss did not improve from 0.17390\n",
      "12/12 [==============================] - 1s 71ms/step - loss: 0.1780 - accuracy: 0.9350 - val_loss: 0.1796 - val_accuracy: 0.9237\n",
      "Epoch 33/50\n",
      "12/12 [==============================] - ETA: 0s - loss: 0.1495 - accuracy: 0.9520\n",
      "Epoch 33: val_loss improved from 0.17390 to 0.17354, saving model to ./model_best_weights.h5\n",
      "12/12 [==============================] - 1s 83ms/step - loss: 0.1495 - accuracy: 0.9520 - val_loss: 0.1735 - val_accuracy: 0.9237\n",
      "Epoch 34/50\n",
      "11/12 [==========================>...] - ETA: 0s - loss: 0.1754 - accuracy: 0.9347\n",
      "Epoch 34: val_loss did not improve from 0.17354\n",
      "12/12 [==============================] - 1s 71ms/step - loss: 0.1748 - accuracy: 0.9350 - val_loss: 0.1770 - val_accuracy: 0.9153\n",
      "Epoch 35/50\n",
      "11/12 [==========================>...] - ETA: 0s - loss: 0.1514 - accuracy: 0.9489\n",
      "Epoch 35: val_loss did not improve from 0.17354\n",
      "12/12 [==============================] - 1s 71ms/step - loss: 0.1532 - accuracy: 0.9492 - val_loss: 0.2013 - val_accuracy: 0.9153\n",
      "Epoch 36/50\n",
      "12/12 [==============================] - ETA: 0s - loss: 0.1689 - accuracy: 0.9379\n",
      "Epoch 36: val_loss did not improve from 0.17354\n",
      "12/12 [==============================] - 1s 73ms/step - loss: 0.1689 - accuracy: 0.9379 - val_loss: 0.1825 - val_accuracy: 0.9237\n",
      "Epoch 37/50\n",
      "11/12 [==========================>...] - ETA: 0s - loss: 0.1426 - accuracy: 0.9574\n",
      "Epoch 37: val_loss did not improve from 0.17354\n",
      "12/12 [==============================] - 1s 70ms/step - loss: 0.1419 - accuracy: 0.9576 - val_loss: 0.1737 - val_accuracy: 0.9407\n",
      "Epoch 38/50\n",
      "12/12 [==============================] - ETA: 0s - loss: 0.1636 - accuracy: 0.9435\n",
      "Epoch 38: val_loss did not improve from 0.17354\n",
      "12/12 [==============================] - 1s 71ms/step - loss: 0.1636 - accuracy: 0.9435 - val_loss: 0.1750 - val_accuracy: 0.9237\n",
      "Epoch 38: early stopping\n"
     ]
    }
   ],
   "source": [
    "#with tf.device('/gpu:0'):\n",
    "with device('/gpu:0'): \n",
    "    history = model.fit(dataset_train,\n",
    "                    validation_data=dataset_val,\n",
    "                    batch_size=batch_size, epochs=50, callbacks=callbacks_list, verbose=1)"
   ]
  },
  {
   "cell_type": "code",
   "execution_count": 10,
   "metadata": {},
   "outputs": [
    {
     "name": "stdout",
     "output_type": "stream",
     "text": [
      "12/12 [==============================] - 1s 38ms/step - loss: 0.0595 - accuracy: 0.9859\n",
      "Training Accuracy   : 0.9859\n",
      "\n",
      "4/4 [==============================] - 0s 42ms/step - loss: 0.1750 - accuracy: 0.9237\n",
      "Validation Accuracy :  0.9237\n"
     ]
    }
   ],
   "source": [
    "# Score du dernier epoch\n",
    "\n",
    "loss, accuracy = model.evaluate(dataset_train, verbose=True)\n",
    "print(\"Training Accuracy   : {:.4f}\".format(accuracy))\n",
    "print()\n",
    "loss, accuracy = model.evaluate(dataset_val, verbose=True)\n",
    "print(\"Validation Accuracy :  {:.4f}\".format(accuracy))"
   ]
  },
  {
   "cell_type": "code",
   "execution_count": 11,
   "metadata": {},
   "outputs": [
    {
     "name": "stdout",
     "output_type": "stream",
     "text": [
      "Validation Accuracy :  0.9237\n",
      "Test Accuracy       :  0.9658\n"
     ]
    }
   ],
   "source": [
    "# Score de l'epoch optimal\n",
    "\n",
    "model.load_weights(model_save_path)\n",
    "\n",
    "loss, accuracy = model.evaluate(dataset_val, verbose=False)\n",
    "print(\"Validation Accuracy :  {:.4f}\".format(accuracy))\n",
    "\n",
    "loss, accuracy = model.evaluate(dataset_test, verbose=False)\n",
    "print(\"Test Accuracy       :  {:.4f}\".format(accuracy))"
   ]
  },
  {
   "cell_type": "code",
   "execution_count": 12,
   "metadata": {},
   "outputs": [
    {
     "data": {
      "image/png": "[encoded data removed]",
      "text/plain": [
       "<Figure size 1000x500 with 2 Axes>"
      ]
     },
     "metadata": {},
     "output_type": "display_data"
    }
   ],
   "source": [
    "\n",
    "\n",
    "show_history(history)\n",
    "plot_history(history, path=\"standard.png\")\n",
    "plt.close()"
   ]
  }
 ],
 "metadata": {
  "kernelspec": {
   "display_name": "base",
   "language": "python",
   "name": "python3"
  },
  "language_info": {
   "codemirror_mode": {
    "name": "ipython",
    "version": 3
   },
   "file_extension": ".py",
   "mimetype": "text/x-python",
   "name": "python",
   "nbconvert_exporter": "python",
   "pygments_lexer": "ipython3",
   "version": "3.10.12"
  }
 },
 "nbformat": 4,
 "nbformat_minor": 2
}
